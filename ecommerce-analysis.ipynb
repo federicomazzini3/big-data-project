{
 "cells": [
  {
   "cell_type": "markdown",
   "id": "5434028c-bf76-435e-930b-40a315ba8096",
   "metadata": {},
   "source": [
    "# Progetto Big Data - e-commerce analysis"
   ]
  },
  {
   "cell_type": "markdown",
   "id": "3fe437e9-58f8-4d87-80fa-e75570007d36",
   "metadata": {},
   "source": [
    "## Il dataset\n",
    "Il [dataset analizzato](https://www.kaggle.com/datasets/mkechinov/ecommerce-behavior-data-from-multi-category-store) riporta gli eventi, generati da utenti, all'interno di un portale di e-commerce nel mese di novembre 2019. \n",
    "Un evento può essere di diverse tipologie:\n",
    "- visualizzazione di un prodotto\n",
    "- aggiunta al carrello di prodotto\n",
    "- acquisto di un prodotto\n",
    "- rimozione dal carrello di un prodotto\n",
    "\n",
    "Ogni riga del dataset rappresenta un evento e, per ognuno di essi, sono riportati l’utente che l’ha generato e diverse informazioni relative al prodotto, tra cui categoria, prezzo e brand.\n",
    "\n",
    "#### Upload del dataset su S3\n",
    "A causa di una scarsa connessione in upload (300 KB/s), è stato difficoltoso caricare il file su S3. Inizialmente si è cercato di sfruttare il meccanismo di s3 “multipart upload”. Questo era però disponibile solamente mediante AWS CLI e, probabilmente per la mancanza dei permessi necessari, non è stato possibile usufruirne. \n",
    "\n",
    "Il dataset è perciò stato prima splittato in partizioni da 128Mb mediante il comando **split** nativo dei sistemi unix, e poi caricato.\n",
    "\n",
    "```split -d -a3 -b 128M 2019-Nov.csv 2019-Nov- ```\n",
    "\n",
    "Poter spezzare l'upload in più parti ha reso più agevole gestire i casi di fallimento, non dovendo ricaricare il dataset per intero ma solo le partizioni mancanti."
   ]
  },
  {
   "cell_type": "markdown",
   "id": "d0c641a0-26b5-4aa5-8797-bb15f6d27f1d",
   "metadata": {},
   "source": [
    "## Obbiettivi dell'analisi\n",
    "L'obbiettivo del progetto è analizzare il dataset in modalità batch, al fine di rilevare informazioni utili sui dati raccolti. Di seguito vengono riportate le domande che ci si è posti e a cui si è cercato di dare una risposta analizzando il dataset\n",
    "- numero di utenti che hanno visualizzato un prodotto\n",
    "- numero di utenti che hanno acquistato un prodotto\n",
    "- numero di acquisti effettuati\n",
    "- in media, quanti acquisti per utente\n",
    "- in media, costo medio degli acquisti\n",
    "- brand più venduti in termini di unità e di fatturato\n",
    "- categorie più vendute in termini di unità e fatturato\n",
    "- metriche di visualizzazione, carrello e acquisto per ogni prodotto\n",
    "- classificando i brand sulla base del fatturato, individuare i fatturati totali ripartiti sulle varie categorie\n",
    "\n",
    "Inizialmente si discutono due possibili configurazioni del cluster e i relativi tuning in termini di cpu e memoria. Successivamente si affronta un problema riscontrato durante il caching di RDD in memoria, con possibili cause e soluzioni (serializzazione). Infine, si passa all'analisi vera e propria del dataset attraverso query esplorative e query più complesse. I risultati finali sono stati riportati in Tableau al fine di rappresentarli graficamente."
   ]
  },
  {
   "cell_type": "markdown",
   "id": "b609bb1f-e7fc-4c13-b867-1825191504ee",
   "metadata": {},
   "source": [
    "## Configurazione del cluster\n",
    "\n",
    "### Prima opzione\n",
    "Configurazione del cluster di default, utilizzata anche durante i laboratori. Esso è composto da 1 master e 2 nodi slave, entrambi con 4 core e 16 GB di RAM. In questo caso si è scelto di mantenere gli stessi setting per il cluster in quanto ottimali per quanto visto in teoria:\n",
    "\n",
    "- 2 executor con 3 core ciascuno (viene lasciato 1 core per gli altri servizi della macchina)\n",
    "- 8GB di memoria per executor\n",
    "\n",
    "### Seconda opzione\n",
    "Si è scelto di utilizzare una configurazione alternativa, questo per approfondire e sperimentare sul tuning di CPU e memoria nella configurazione del cluster\n",
    "- **Master node**: m5.xlarge (4 core e 16GB di ram)\n",
    "- **Core node**:  2 x m5.x2large (8 core e 32GB di ram)\n",
    "\n",
    "Il setting del cluster è stato definito secondo le linee guida viste a lezione, per cui si è cercato di stabilire la configurazione migliore per quanto riguarda il numero degli executor, il numero di core e la quantità di memoria allocata a ciascuno. \n",
    "\n",
    "#### Tuning CPU\n",
    "Per la CPU allocata, si è tenuto in considerazione il numero di nodi disponibili e il numero di core disponibili su ciascuna macchina. Ogni nodo ha 8 core, seguendo la linea guida di 3-5 core per executor, sono state prese in considerazioni due opzioni:\n",
    "- 3 core per executor\n",
    "- 5 core per executor\n",
    "\n",
    "La prima opzione consente di avere (8 - 1)/3 = 2 executor, mentre la seconda consente (8-1)/5 = 1 executor (per macchina). \n",
    "La seconda opzione permette di sfruttare al meglio le variabili broadcast, in quanto esse sono condivise in ogni executor, mentre la prima permette in termini assoluti di sfruttare un core in più per nodo. \n",
    "\n",
    "#### Tuning memoria\n",
    "Dotare gli executor di troppa memoria può portare a problemi di garbage collection, perciò è buona prassi non superare i 64 GB per executor, anche se non è questo il problema in questo caso, dal momento che si ha a che fare con macchine dotate di 32 GB di memoria. \n",
    "Si è cercato di lasciare abbastanza memoria per il sistema operativo e i servizi hadoop perciò si è seguito il calcolo visto in teoria.\n",
    "\n",
    "**3 core per executor, 2 executor per nodo** \n",
    "32 * 0.75 * 0.9 / 2 = 10.8 GB RAM per nodo\n",
    "\n",
    "**5 core per executor, 1 executor per nodo**\n",
    "32 * 0.75 * 0.9 / 1 = 21.6 GB RAM per nodo\n",
    "\n",
    "La configurazione scelta è la prima, in quanto viene utilizzato 1 core in più per nodo, quindi:\n",
    "\n",
    "- 4 executor (2 per nodo) con 3 core ciascuno\n",
    "- 8GB di memoria per executor"
   ]
  },
  {
   "cell_type": "code",
   "execution_count": 2,
   "id": "0cd45cfb-4b27-45b0-9036-9de6155e5003",
   "metadata": {
    "execution": {
     "iopub.execute_input": "2022-07-26T10:24:16.601884Z",
     "iopub.status.busy": "2022-07-26T10:24:16.601657Z",
     "iopub.status.idle": "2022-07-26T10:25:08.585008Z",
     "shell.execute_reply": "2022-07-26T10:25:08.584388Z",
     "shell.execute_reply.started": "2022-07-26T10:24:16.601860Z"
    },
    "tags": []
   },
   "outputs": [
    {
     "name": "stdout",
     "output_type": "stream",
     "text": [
      "Starting Spark application\n"
     ]
    },
    {
     "data": {
      "text/html": [
       "<table>\n",
       "<tr><th>ID</th><th>YARN Application ID</th><th>Kind</th><th>State</th><th>Spark UI</th><th>Driver log</th><th>User</th><th>Current session?</th></tr><tr><td>1</td><td>application_1658829835001_0002</td><td>spark</td><td>idle</td><td><a target=\"_blank\" href=\"http://ip-172-31-45-32.ec2.internal:20888/proxy/application_1658829835001_0002/\" class=\"emr-proxy-link\" emr-resource=\"j-29LIFXROZ3VVL\n",
       "\" application-id=\"application_1658829835001_0002\">Link</a></td><td><a target=\"_blank\" href=\"http://ip-172-31-38-160.ec2.internal:8042/node/containerlogs/container_1658829835001_0002_01_000001/livy\" >Link</a></td><td>None</td><td>✔</td></tr></table>"
      ],
      "text/plain": [
       "<IPython.core.display.HTML object>"
      ]
     },
     "metadata": {},
     "output_type": "display_data"
    },
    {
     "data": {
      "application/vnd.jupyter.widget-view+json": {
       "model_id": "",
       "version_major": 2,
       "version_minor": 0
      },
      "text/plain": [
       "FloatProgress(value=0.0, bar_style='info', description='Progress:', layout=Layout(height='25px', width='50%'),…"
      ]
     },
     "metadata": {},
     "output_type": "display_data"
    },
    {
     "name": "stdout",
     "output_type": "stream",
     "text": [
      "SparkSession available as 'spark'.\n"
     ]
    },
    {
     "data": {
      "text/html": [
       "Current session configs: <tt>{'numExecutors': 4, 'executorMemory': '8G', 'executorCores': 3, 'conf': {'spark.dynamicAllocation.enabled': 'false'}, 'proxyUser': 'assumed-role_voclabs_user1971694_federico_mazzini3_studio_unibo_it', 'kind': 'spark'}</tt><br>"
      ],
      "text/plain": [
       "<IPython.core.display.HTML object>"
      ]
     },
     "metadata": {},
     "output_type": "display_data"
    },
    {
     "data": {
      "text/html": [
       "<table>\n",
       "<tr><th>ID</th><th>YARN Application ID</th><th>Kind</th><th>State</th><th>Spark UI</th><th>Driver log</th><th>User</th><th>Current session?</th></tr><tr><td>1</td><td>application_1658829835001_0002</td><td>spark</td><td>idle</td><td><a target=\"_blank\" href=\"http://ip-172-31-45-32.ec2.internal:20888/proxy/application_1658829835001_0002/\" class=\"emr-proxy-link\" emr-resource=\"j-29LIFXROZ3VVL\n",
       "\" application-id=\"application_1658829835001_0002\">Link</a></td><td><a target=\"_blank\" href=\"http://ip-172-31-38-160.ec2.internal:8042/node/containerlogs/container_1658829835001_0002_01_000001/livy\" >Link</a></td><td>None</td><td>✔</td></tr></table>"
      ],
      "text/plain": [
       "<IPython.core.display.HTML object>"
      ]
     },
     "metadata": {},
     "output_type": "display_data"
    }
   ],
   "source": [
    "%%configure -f\n",
    "{\"numExecutors\":4, \"executorMemory\":\"8G\",  \"executorCores\":3, \"conf\": {\"spark.dynamicAllocation.enabled\": \"false\"}}"
   ]
  },
  {
   "cell_type": "markdown",
   "id": "c766545b-9ed5-43d6-aee8-9b508c784baf",
   "metadata": {},
   "source": [
    "## Preprocessing dei dati"
   ]
  },
  {
   "cell_type": "code",
   "execution_count": 3,
   "id": "747c7f97-56ce-42e6-b25a-c3f3e621aeaf",
   "metadata": {
    "execution": {
     "iopub.execute_input": "2022-07-26T10:35:14.689289Z",
     "iopub.status.busy": "2022-07-26T10:35:14.689057Z",
     "iopub.status.idle": "2022-07-26T10:35:15.973061Z",
     "shell.execute_reply": "2022-07-26T10:35:15.972501Z",
     "shell.execute_reply.started": "2022-07-26T10:35:14.689265Z"
    },
    "tags": []
   },
   "outputs": [
    {
     "data": {
      "application/vnd.jupyter.widget-view+json": {
       "model_id": "ac2ab3e7a0464e52a79f7679cc35e53b",
       "version_major": 2,
       "version_minor": 0
      },
      "text/plain": [
       "VBox()"
      ]
     },
     "metadata": {},
     "output_type": "display_data"
    },
    {
     "data": {
      "application/vnd.jupyter.widget-view+json": {
       "model_id": "",
       "version_major": 2,
       "version_minor": 0
      },
      "text/plain": [
       "FloatProgress(value=0.0, bar_style='info', description='Progress:', layout=Layout(height='25px', width='50%'),…"
      ]
     },
     "metadata": {},
     "output_type": "display_data"
    },
    {
     "name": "stdout",
     "output_type": "stream",
     "text": [
      "import java.util.UUID\n",
      "import org.apache.spark.sql.SaveMode\n",
      "defined object EcommerceEventParser\n"
     ]
    }
   ],
   "source": [
    "import java.util.UUID\n",
    "import org.apache.spark.sql.SaveMode\n",
    "\n",
    "object EcommerceEventParser {\n",
    "\n",
    "  case class Event(time: String,\n",
    "                   kind: String,\n",
    "                   productID: Long,\n",
    "                   categoryID: Long,\n",
    "                   categoryCode: String,\n",
    "                   brand: String,\n",
    "                   price: Double,\n",
    "                   userID: Long,\n",
    "                   userSession: UUID)\n",
    "\n",
    "  def apply(line: String): Option[Event] = {\n",
    "    try{\n",
    "      val input = line.split(',')\n",
    "      Some(\n",
    "        Event(\n",
    "          time = input(0),\n",
    "          kind = input(1),\n",
    "          productID = input(2).toLong,\n",
    "          categoryID = input(3).toLong,\n",
    "          categoryCode = input(4),\n",
    "          brand = input(5),\n",
    "          price = input(6).toDouble,\n",
    "          userID = input(7).toLong,\n",
    "          userSession = UUID.fromString(input(8))\n",
    "        )\n",
    "      )\n",
    "    } catch {\n",
    "      case _: Throwable => None\n",
    "    }\n",
    "  }\n",
    "}"
   ]
  },
  {
   "cell_type": "code",
   "execution_count": 4,
   "id": "136993c6-e4c6-4a6f-9510-21b5767ca07a",
   "metadata": {
    "execution": {
     "iopub.execute_input": "2022-07-26T10:35:20.802895Z",
     "iopub.status.busy": "2022-07-26T10:35:20.802677Z",
     "iopub.status.idle": "2022-07-26T10:35:22.086712Z",
     "shell.execute_reply": "2022-07-26T10:35:22.085984Z",
     "shell.execute_reply.started": "2022-07-26T10:35:20.802871Z"
    },
    "tags": []
   },
   "outputs": [
    {
     "data": {
      "application/vnd.jupyter.widget-view+json": {
       "model_id": "8f0e5a534bd947b995879f986420a5c3",
       "version_major": 2,
       "version_minor": 0
      },
      "text/plain": [
       "VBox()"
      ]
     },
     "metadata": {},
     "output_type": "display_data"
    },
    {
     "data": {
      "application/vnd.jupyter.widget-view+json": {
       "model_id": "",
       "version_major": 2,
       "version_minor": 0
      },
      "text/plain": [
       "FloatProgress(value=0.0, bar_style='info', description='Progress:', layout=Layout(height='25px', width='50%'),…"
      ]
     },
     "metadata": {},
     "output_type": "display_data"
    },
    {
     "name": "stdout",
     "output_type": "stream",
     "text": [
      "bucketname: String = unibo-bd2122-fmazzini\n",
      "path_ecommerce_events: String = s3a://unibo-bd2122-fmazzini/datasets/ecommerce/*\n",
      "res3: String = SPARK UI: Enable forwarding of port 20888 and connect to http://localhost:20888/proxy/application_1658829835001_0002/\n",
      "rddEvents: org.apache.spark.rdd.RDD[EcommerceEventParser.Event] = CoalescedRDD[3] at coalesce at <console>:29\n"
     ]
    }
   ],
   "source": [
    "val bucketname = \"unibo-bd2122-fmazzini\"\n",
    "val path_ecommerce_events = \"s3a://\"+bucketname+\"/datasets/ecommerce/*\"\n",
    "\n",
    "\"SPARK UI: Enable forwarding of port 20888 and connect to http://localhost:20888/proxy/\" + sc.applicationId + \"/\"\n",
    "\n",
    "//val rddEvents = sc.textFile(path_ecommerce_events).flatMap(EcommerceEventParser(_))\n",
    "val rddEvents = sc.textFile(path_ecommerce_events).flatMap(EcommerceEventParser(_)).coalesce(60)"
   ]
  },
  {
   "cell_type": "markdown",
   "id": "70fb2843-e137-4332-90e1-9a68f35a95e0",
   "metadata": {
    "tags": []
   },
   "source": [
    "## Riflessioni sul numero di partizioni\n",
    "Dal momento che il dataset è molto grande, si è subito valutato il numero di partizioni in cui era suddiviso. \n",
    "Come precedentemente affermato, il dataset è stato suddiviso in blocchi di 128 Mb al fine di caricarlo su S3, tuttavia Spark, per l'intero dataset, crea 269 partizioni (di circa 32 Mb ciascuna). "
   ]
  },
  {
   "cell_type": "code",
   "execution_count": 5,
   "id": "249f308b-c168-4dcc-8d52-126183761f34",
   "metadata": {
    "execution": {
     "iopub.execute_input": "2022-07-26T10:35:35.335778Z",
     "iopub.status.busy": "2022-07-26T10:35:35.335473Z",
     "iopub.status.idle": "2022-07-26T10:35:37.647381Z",
     "shell.execute_reply": "2022-07-26T10:35:37.646491Z",
     "shell.execute_reply.started": "2022-07-26T10:35:35.335743Z"
    },
    "tags": []
   },
   "outputs": [
    {
     "data": {
      "application/vnd.jupyter.widget-view+json": {
       "model_id": "85b2bbea3d134cb9b295d0c27a0da716",
       "version_major": 2,
       "version_minor": 0
      },
      "text/plain": [
       "VBox()"
      ]
     },
     "metadata": {},
     "output_type": "display_data"
    },
    {
     "data": {
      "application/vnd.jupyter.widget-view+json": {
       "model_id": "",
       "version_major": 2,
       "version_minor": 0
      },
      "text/plain": [
       "FloatProgress(value=0.0, bar_style='info', description='Progress:', layout=Layout(height='25px', width='50%'),…"
      ]
     },
     "metadata": {},
     "output_type": "display_data"
    },
    {
     "name": "stdout",
     "output_type": "stream",
     "text": [
      "res6: Int = 60\n"
     ]
    }
   ],
   "source": [
    "rddEvents.getNumPartitions"
   ]
  },
  {
   "cell_type": "markdown",
   "id": "ab392d4b-288c-4649-af8c-f1a22b6e521b",
   "metadata": {
    "tags": []
   },
   "source": [
    "### Riduzione delle partizioni\n",
    "Mediante coalesce si è ridimensionato il numero di partizioni a 60, in modo tale che, circa, ogni core avesse a che fare con 5 partizioni anzichè 22. \n",
    "Si sono valutate le prestazioni nel primo semplice job durante l'esplorazione del dataset e non sono state notate differenze significative in termini di prestazioni. \n",
    "\n",
    "![60 vs 269 partizioni.png](images/60_vs_269_partizioni.png)"
   ]
  },
  {
   "cell_type": "markdown",
   "id": "c4f67029-4211-4322-95ed-44bcf1fca6a7",
   "metadata": {},
   "source": [
    "## Sulle dimensioni del dataset\n",
    "\n",
    "Trattandosi di un dataset più grande rispetto a quanto visto precedentemente in laboratorio, inizialmente sono state svolte diverse analisi sull'occupazione di memoria e sui tempi di risposta dell'applicativo per svolgere semplici job di count. \n"
   ]
  },
  {
   "cell_type": "code",
   "execution_count": 6,
   "id": "683fdbb1-36c3-4f04-bfb0-380f67d9bf17",
   "metadata": {
    "execution": {
     "iopub.execute_input": "2022-07-26T10:35:45.071425Z",
     "iopub.status.busy": "2022-07-26T10:35:45.071087Z",
     "iopub.status.idle": "2022-07-26T10:36:58.676233Z",
     "shell.execute_reply": "2022-07-26T10:36:58.675483Z",
     "shell.execute_reply.started": "2022-07-26T10:35:45.071385Z"
    },
    "tags": []
   },
   "outputs": [
    {
     "data": {
      "application/vnd.jupyter.widget-view+json": {
       "model_id": "a7f4e0f750f84c85a487341ac458ab79",
       "version_major": 2,
       "version_minor": 0
      },
      "text/plain": [
       "VBox()"
      ]
     },
     "metadata": {},
     "output_type": "display_data"
    },
    {
     "data": {
      "application/vnd.jupyter.widget-view+json": {
       "model_id": "",
       "version_major": 2,
       "version_minor": 0
      },
      "text/plain": [
       "FloatProgress(value=0.0, bar_style='info', description='Progress:', layout=Layout(height='25px', width='50%'),…"
      ]
     },
     "metadata": {},
     "output_type": "display_data"
    },
    {
     "name": "stdout",
     "output_type": "stream",
     "text": [
      "import org.apache.spark.util.SizeEstimator\n",
      "rddEventsCached: rddEvents.type = CoalescedRDD[3] at coalesce at <console>:29\n",
      "res10: Long = 67501914\n",
      "res13: String = 15864624 bytes\n"
     ]
    }
   ],
   "source": [
    "import org.apache.spark.util.SizeEstimator\n",
    "\n",
    "// RDD con parsing in oggetti Event\n",
    "val rddEventsCached = rddEvents.cache()\n",
    "\n",
    "rddEventsCached.count()\n",
    "\n",
    "//Stima grandezza RDD, visibile anche dalla Spark UI\n",
    "SizeEstimator.estimate(rddEventsCached)  + \" bytes\"\n",
    "\n",
    "sc.getPersistentRDDs.foreach{case (k,v) => v.unpersist()}"
   ]
  },
  {
   "cell_type": "markdown",
   "id": "d17a972e-7bd3-4224-bd64-b51accbdadff",
   "metadata": {},
   "source": [
    "Uno dei primi problemi che ci si è ritrovati ad affrontare è la grande differenza in occupazione di memoria del dataset raw csv memorizzato su S3, rispetto all'RDD creato dal parsing dello stesso. \n",
    "\n",
    "Il dataset originale è un file csv di 8.4 Gb, mentre lo stesso come RDD in cache ha dimensione di circa 16Gb.\n",
    "Per mostrare quanto ottenuto sulla Spark UI, il job di count è stato eseguito due volte\n",
    "![job count intero dataset non cachato.png](images/job_count_intero_dataset_non_cachato.png)\n",
    "![job count intero dataset cachato.png](images/job_count_intero_dataset_cachato.png)\n",
    "\n",
    "Inizialmente si pensava che, avendo ogni executor 8Gb di memoria da utilizzare per caching, variabili broadcast e analisi dati, la memoria fosse sufficiente. Al caching di altri RDD più piccoli però, come ad esempio il caching dei soli acquisti, si sono notati strani overhead nella memoria e nei tempi di esecuzione."
   ]
  },
  {
   "cell_type": "markdown",
   "id": "73d109b1-6bc6-45c6-9176-7497efc644b2",
   "metadata": {},
   "source": [
    "### Storage Memory vs Execution Memory\n",
    "Questo ha portato ad approfondire com'è suddivisa la memoria per ogni executor. Questa, sebbene sia 8 Gb, in realtà la memoria utilizzata al fine di storage è di circa la metà. Questo perchè l'executor memory (8Gb) è [suddivisa a sua volta in due parti](https://medium.com/analytics-vidhya/apache-spark-memory-management-49682ded3d42): \n",
    "- Storage Memory \n",
    "- Execution Memory\n",
    "\n",
    "La memoria è comunque [ripartizionata tra le due parti](https://spark.apache.org/docs/latest/tuning.html#:~:text=%20When%20no%20execution%20memory%20is%20used,%20storage%20can%20acquire%20all%20the%20available%20memory%20and%20vice%20versa.) quando la storage memory o l'execution memory non sono utilizzate, ma in sostanza si pensa che la storage memory degli executor non fosse abbastanza per lo storage del dataset in memoria quando l'executor veniva usato anche per eseguire computazioni.\n",
    "\n",
    "### Il testing\n",
    "\n",
    "Si è cercato di verificare il tutto in un cluster con più memoria, in cui il numero di core per executor e il numero di executor è volutamente mantenuto invariato. A tal proposito si riporta il cluster \n",
    "\n",
    "- **Master node**: m5.xlarge (4 core e 16GB di ram)\n",
    "- **Core node**: 2 x m5.x4large (16 core e 64GB di ram)\n",
    "\n",
    "e la configurazione scelta\n",
    "- 4 executor (2 per nodo) con 3 core ciascuno\n",
    "- 16GB di memoria per executor\n",
    "\n",
    "\n",
    "Per ognuna delle due diverse configurazioni di memoria si è eseguito il seguente scenario.\n",
    "- Dichiarazione di un RDD riguardante tutto il file, suddiviso in 60 partizioni\n",
    "- Creazione di 3 differenti RDD, riguardanti articoli visualizzati, aggiunti al carrello e acquistati\n",
    "- Dichiarazione del caching per i 3 RDD ed effettiva invocazione del caching tramite count()\n",
    "- Ripetizione della count() sui 3 RDD cachati\n",
    "\n",
    "I 3 RDD sono uno più piccolo dell'altro, dal momento che le visualizzazione per i prodotti sono molte di più rispetto alle aggiunte al carrello e le visualizzazioni. "
   ]
  },
  {
   "cell_type": "code",
   "execution_count": null,
   "id": "66cc767b-bf40-4816-95d1-db927a224562",
   "metadata": {
    "tags": []
   },
   "outputs": [],
   "source": [
    "val rddViewsTestingCached = rddEvents.filter(_.kind == \"view\").cache()\n",
    "val rddCartsTestingCached = rddEvents.filter(_.kind == \"cart\").cache()\n",
    "val rddPurchasesTestingCached = rddEvents.filter(_.kind == \"purchase\").cache()\n",
    "\n",
    "rddViewsTestingCached.count()\n",
    "rddCartsTestingCached.count()\n",
    "rddPurchasesTestingCached.count()"
   ]
  },
  {
   "cell_type": "markdown",
   "id": "62db074f-bb0c-4ee6-a744-0bf136a721db",
   "metadata": {},
   "source": [
    "### Risultati ottenuti\n",
    "#### Tempi job senza caching\n",
    "I tempi senza caching sono alquanto paragonabili\n",
    "\n",
    "**8Gb RAM per executor**\n",
    "![32Gb memoria no cache.png](images/testing_memory/32Gb_memoria_no_cache.png)\n",
    "**16Gb RAM per executor**\n",
    "![64Gb memoria no cache.png](images/testing_memory/64Gb_memoria_no_cache.png)"
   ]
  },
  {
   "cell_type": "code",
   "execution_count": 43,
   "id": "15bdff8d-444b-4486-8695-fe1899153c5d",
   "metadata": {
    "execution": {
     "iopub.execute_input": "2022-07-25T12:37:54.315750Z",
     "iopub.status.busy": "2022-07-25T12:37:54.315389Z",
     "iopub.status.idle": "2022-07-25T12:39:17.848101Z",
     "shell.execute_reply": "2022-07-25T12:39:17.847399Z",
     "shell.execute_reply.started": "2022-07-25T12:37:54.315702Z"
    },
    "tags": []
   },
   "outputs": [
    {
     "data": {
      "application/vnd.jupyter.widget-view+json": {
       "model_id": "c04d8e2c41a244faa5832e31fe3977ae",
       "version_major": 2,
       "version_minor": 0
      },
      "text/plain": [
       "VBox()"
      ]
     },
     "metadata": {},
     "output_type": "display_data"
    },
    {
     "data": {
      "application/vnd.jupyter.widget-view+json": {
       "model_id": "",
       "version_major": 2,
       "version_minor": 0
      },
      "text/plain": [
       "FloatProgress(value=0.0, bar_style='info', description='Progress:', layout=Layout(height='25px', width='50%'),…"
      ]
     },
     "metadata": {},
     "output_type": "display_data"
    },
    {
     "name": "stdout",
     "output_type": "stream",
     "text": [
      "res120: Long = 63556058\n",
      "res121: Long = 3028917\n",
      "res122: Long = 916939\n"
     ]
    }
   ],
   "source": [
    "rddViewsTestingCached.count()\n",
    "rddCartsTestingCached.count()\n",
    "rddPurchasesTestingCached.count()"
   ]
  },
  {
   "cell_type": "markdown",
   "id": "367c96ad-26a2-4f91-a6cc-47149fa2df6c",
   "metadata": {},
   "source": [
    "#### Tempi job con caching\n",
    "Si nota come i tempi con dati cachati siano nettamente inferiori quando gli executor hanno più memoria, per il fatto che questi effettivamente riescono a mantenere in cache gli RDD utili e a riutilizzarli quando servono. Quando invece gli executor non hanno memoria per mantenere gli RDD richiesti in cache, devono ricalcolarli sempre al bisogno, rileggendo quindi i dati da S3)\n",
    "\n",
    "**8Gb RAM per executor**\n",
    "![32Gb memoria cache.png](images/testing_memory/32Gb_memoria_cache.png)\n",
    "**16Gb RAM per executor**\n",
    "![64Gb memoria cache.png](images/testing_memory/64Gb_memoria_cache.png)\n",
    "\n",
    "#### Dati in input job con caching\n",
    "Successivamente si è andati nel dettaglio di ogni job. Si nota come i dati in input nei job eseguiti da executor con più memoria utilizzino effettivamente dati cachati, mentre nel primo caso, i dati in input sono sempre 8.4 Gb (eccezione per il primo, in cui effettivamente si sono usati dati cachati). \n",
    "\n",
    "Da qui, si evince come Spark vada a rileggere i dati da S3, probabilmente perchè ha dovuto togliere gli RDD cachati per mancanza di spazio. \n",
    "\n",
    "**8Gb RAM per executor - Count delle visualizzazioni**\n",
    "![32Gb - cache viewCount.png](images/testing_memory/32Gb_cache_viewCount.png)\n",
    "**16Gb RAM per executor - Count delle visualizzazioni**\n",
    "![64Gb - cache viewCount.png](images/testing_memory/64Gb_cache-viewCount.png)\n",
    "\n",
    "**8Gb RAM per executor - Count delle aggiunte al carrello**\n",
    "![32Gb - cache cartCount.png](images/testing_memory/32Gb_cache_cartCount.png)\n",
    "**16Gb RAM per executor - Count delle aggiunte al carrello**\n",
    "![64Gb - cache cartCount.png](images/testing_memory/64Gb_cache_cartCount.png)\n",
    "\n",
    "**8Gb RAM per executor - Count degli acquisti**\n",
    "![32Gb - cache purchaseCount.png](images/testing_memory/32Gb_cache_purchaseCount.png)\n",
    "**16Gb RAM per executor - Count delle aggiunte al carrello**\n",
    "![64Gb - cache purchaseCount.png](images/testing_memory/64Gb_cache_purchaseCount.png)\n",
    "\n",
    "\n",
    "Si è comunque scelto di mantenere il cluster configurato come deciso perchè, si pensa, che per il dataset in questione la seconda configurazione sia eccessiva. Nel corso dell'analisi si è perciò cercato di ottimizzare al meglio lo spazio in cache e le computazioni. \n",
    "\n",
    "Per prima cosa, si è smesso di effettuare il caching del dataset quando conteneva oggetti \"Event\" (ad eccezioni di piccoli RDD), ma solamente un sottoinsieme composto dai soli campi utili al momento."
   ]
  },
  {
   "cell_type": "code",
   "execution_count": 7,
   "id": "b602b2e1-5d0f-487f-8be2-970080febcd6",
   "metadata": {
    "execution": {
     "iopub.execute_input": "2022-07-26T10:37:50.108447Z",
     "iopub.status.busy": "2022-07-26T10:37:50.108206Z",
     "iopub.status.idle": "2022-07-26T10:37:50.887443Z",
     "shell.execute_reply": "2022-07-26T10:37:50.886696Z",
     "shell.execute_reply.started": "2022-07-26T10:37:50.108422Z"
    },
    "tags": []
   },
   "outputs": [
    {
     "data": {
      "application/vnd.jupyter.widget-view+json": {
       "model_id": "e6ff33dbcbc942c1a1f1773fbfb99844",
       "version_major": 2,
       "version_minor": 0
      },
      "text/plain": [
       "VBox()"
      ]
     },
     "metadata": {},
     "output_type": "display_data"
    },
    {
     "data": {
      "application/vnd.jupyter.widget-view+json": {
       "model_id": "",
       "version_major": 2,
       "version_minor": 0
      },
      "text/plain": [
       "FloatProgress(value=0.0, bar_style='info', description='Progress:', layout=Layout(height='25px', width='50%'),…"
      ]
     },
     "metadata": {},
     "output_type": "display_data"
    }
   ],
   "source": [
    "sc.getPersistentRDDs.foreach{case (k,v) => v.unpersist()}"
   ]
  },
  {
   "cell_type": "markdown",
   "id": "555188f7-dbc1-4b9c-a561-8be8cfb5057d",
   "metadata": {},
   "source": [
    "### Parsing alternativo e cache con serializzazione"
   ]
  },
  {
   "cell_type": "code",
   "execution_count": null,
   "id": "6b61fb5f-aa65-4ed3-b712-6b6db2affd4a",
   "metadata": {},
   "outputs": [
    {
     "data": {
      "application/vnd.jupyter.widget-view+json": {
       "model_id": "f2de52a08e2d460caedd29124368f84e",
       "version_major": 2,
       "version_minor": 0
      },
      "text/plain": [
       "VBox()"
      ]
     },
     "metadata": {},
     "output_type": "display_data"
    },
    {
     "data": {
      "application/vnd.jupyter.widget-view+json": {
       "model_id": "",
       "version_major": 2,
       "version_minor": 0
      },
      "text/plain": [
       "FloatProgress(value=0.0, bar_style='info', description='Progress:', layout=Layout(height='25px', width='50%'),…"
      ]
     },
     "metadata": {},
     "output_type": "display_data"
    },
    {
     "name": "stdout",
     "output_type": "stream",
     "text": [
      "import org.apache.spark.storage.StorageLevel\n",
      "parseString: (line: String)Option[(String, Long, String, String, Double, Long, String, String)]\n",
      "rddEventsSer: org.apache.spark.rdd.RDD[(String, Long, String, String, Double, Long, String, String)] = CoalescedRDD[7] at coalesce at <console>:30\n"
     ]
    }
   ],
   "source": [
    "import org.apache.spark.storage.StorageLevel\n",
    "\n",
    "\n",
    "//kind, productID, categoryCode, brand, price, userID, userSession\n",
    "def parseString(line:String) = {\n",
    "    try{\n",
    "      val input = line.split(',')\n",
    "      Some(input(1), //kind\n",
    "           input(2).toLong, //productID\n",
    "           input(4), //categoryCode\n",
    "           input(5), //brand\n",
    "           input(6).toDouble, //price\n",
    "           input(7).toLong, //userID\n",
    "           input(8), //userSession\n",
    "           input(3) //categoryID\n",
    "        )\n",
    "    } catch {\n",
    "      case _: Throwable => None\n",
    "    }\n",
    "}\n",
    "\n",
    "val rddEventsSer = sc.textFile(path_ecommerce_events).flatMap(parseString(_)).coalesce(60).persist(StorageLevel.MEMORY_ONLY_SER)"
   ]
  },
  {
   "cell_type": "code",
   "execution_count": 10,
   "id": "b8e5e192-6874-4f25-993b-e8b175c50d1e",
   "metadata": {
    "execution": {
     "iopub.execute_input": "2022-07-26T10:39:09.525195Z",
     "iopub.status.busy": "2022-07-26T10:39:09.524972Z",
     "iopub.status.idle": "2022-07-26T10:39:28.890001Z",
     "shell.execute_reply": "2022-07-26T10:39:28.889289Z",
     "shell.execute_reply.started": "2022-07-26T10:39:09.525171Z"
    },
    "tags": []
   },
   "outputs": [
    {
     "data": {
      "application/vnd.jupyter.widget-view+json": {
       "model_id": "9374e79acf924629a341ea20494688d7",
       "version_major": 2,
       "version_minor": 0
      },
      "text/plain": [
       "VBox()"
      ]
     },
     "metadata": {},
     "output_type": "display_data"
    },
    {
     "data": {
      "application/vnd.jupyter.widget-view+json": {
       "model_id": "",
       "version_major": 2,
       "version_minor": 0
      },
      "text/plain": [
       "FloatProgress(value=0.0, bar_style='info', description='Progress:', layout=Layout(height='25px', width='50%'),…"
      ]
     },
     "metadata": {},
     "output_type": "display_data"
    },
    {
     "name": "stdout",
     "output_type": "stream",
     "text": [
      "res22: Long = 67501926\n"
     ]
    }
   ],
   "source": [
    "rddEventsSer.count()"
   ]
  },
  {
   "cell_type": "markdown",
   "id": "c016c0b4-6777-47f6-89e6-3e190b10309d",
   "metadata": {},
   "source": [
    "Notevole risparmio di memoria se l'RDD viene serializzato. Teoricamente questa è la serializzazione standard di Java. Si e' cercato di usare Kryo, ma con scarso successo, in quanto non è stato trovato il modo di configurare Spark con essa nella configurazione iniziale del notebook. \n",
    "![dimensioni_rdd_serializzato.png](images/dimensioni_rdd_serializzato.png)"
   ]
  },
  {
   "cell_type": "markdown",
   "id": "a994a7c2-c9d9-4c6f-b710-b3bb127f16d9",
   "metadata": {
    "execution": {
     "iopub.execute_input": "2022-07-23T08:46:09.104603Z",
     "iopub.status.busy": "2022-07-23T08:46:09.104358Z"
    },
    "tags": []
   },
   "source": [
    "## Dataset exploration\n",
    "\n",
    "Dopo la piccola digressione sul caching, di seguito viene analizzato il dataset.  "
   ]
  },
  {
   "cell_type": "code",
   "execution_count": 28,
   "id": "8efd49e2-e470-4f1f-93f6-b798e881ff30",
   "metadata": {
    "execution": {
     "iopub.execute_input": "2022-07-26T10:51:51.060928Z",
     "iopub.status.busy": "2022-07-26T10:51:51.060700Z",
     "iopub.status.idle": "2022-07-26T10:52:40.506361Z",
     "shell.execute_reply": "2022-07-26T10:52:40.505489Z",
     "shell.execute_reply.started": "2022-07-26T10:51:51.060903Z"
    },
    "tags": []
   },
   "outputs": [
    {
     "data": {
      "application/vnd.jupyter.widget-view+json": {
       "model_id": "1c5e20017493429c994d0e324859e687",
       "version_major": 2,
       "version_minor": 0
      },
      "text/plain": [
       "VBox()"
      ]
     },
     "metadata": {},
     "output_type": "display_data"
    },
    {
     "data": {
      "application/vnd.jupyter.widget-view+json": {
       "model_id": "",
       "version_major": 2,
       "version_minor": 0
      },
      "text/plain": [
       "FloatProgress(value=0.0, bar_style='info', description='Progress:', layout=Layout(height='25px', width='50%'),…"
      ]
     },
     "metadata": {},
     "output_type": "display_data"
    },
    {
     "name": "stdout",
     "output_type": "stream",
     "text": [
      "rddViewsCached: org.apache.spark.rdd.RDD[(Long, Long, String)] = MapPartitionsRDD[97] at filter at <console>:28\n",
      "viewsCount: Long = 63556058\n",
      "distinctItemsViewed: Long = 190662\n",
      "interactionUsers: Long = 3695598\n",
      "\n",
      "Numero di visualizzazioni effettuate: 63556058\n",
      "Numero di prodotti visti, distinti: 190662\n",
      "Numero di utenti che hanno interagito con l'e-commerce: 3695598\n"
     ]
    }
   ],
   "source": [
    "sc.getPersistentRDDs.foreach{case (k,v) => v.unpersist()}\n",
    "\n",
    "val rddViewsCached = rddEvents.map(v => (v.productID, v.userID, v.kind)).filter(_._3 == \"view\").cache()\n",
    "\n",
    "/** Numero di visualizzazioni effettuate */\n",
    "val viewsCount = rddViewsCached.count()\n",
    "\n",
    "/** Numero di prodotti visti, distinti */\n",
    "val distinctItemsViewed = rddViewsCached.map(_._1).distinct().count()\n",
    "\n",
    "/** Numero di utenti che hanno interagito con l'e-commerce */\n",
    "val interactionUsers = rddViewsCached.map(_._2).distinct().count()\n",
    "\n",
    "println(s\"\\nNumero di visualizzazioni effettuate: ${viewsCount}\")\n",
    "println(s\"Numero di prodotti visti, distinti: ${distinctItemsViewed}\")\n",
    "println(s\"Numero di utenti che hanno interagito con l'e-commerce: ${interactionUsers}\")"
   ]
  },
  {
   "cell_type": "code",
   "execution_count": 29,
   "id": "375a44e3-e86e-4956-87da-b5d77979e406",
   "metadata": {
    "execution": {
     "iopub.execute_input": "2022-07-26T10:52:43.893218Z",
     "iopub.status.busy": "2022-07-26T10:52:43.892998Z",
     "iopub.status.idle": "2022-07-26T10:53:13.283221Z",
     "shell.execute_reply": "2022-07-26T10:53:13.282474Z",
     "shell.execute_reply.started": "2022-07-26T10:52:43.893196Z"
    },
    "tags": []
   },
   "outputs": [
    {
     "data": {
      "application/vnd.jupyter.widget-view+json": {
       "model_id": "1d20a769c13e45719ef640f8c272b191",
       "version_major": 2,
       "version_minor": 0
      },
      "text/plain": [
       "VBox()"
      ]
     },
     "metadata": {},
     "output_type": "display_data"
    },
    {
     "data": {
      "application/vnd.jupyter.widget-view+json": {
       "model_id": "",
       "version_major": 2,
       "version_minor": 0
      },
      "text/plain": [
       "FloatProgress(value=0.0, bar_style='info', description='Progress:', layout=Layout(height='25px', width='50%'),…"
      ]
     },
     "metadata": {},
     "output_type": "display_data"
    },
    {
     "name": "stdout",
     "output_type": "stream",
     "text": [
      "cartCount: Long = 3028917\n",
      "\n",
      "Numero di prodotti aggiunti al carrello: 3028917\n"
     ]
    }
   ],
   "source": [
    "/** Numero di prodotti aggiunti al carrello */\n",
    "val cartCount = rddEvents.filter(_.kind == \"cart\").count()\n",
    "println(s\"\\nNumero di prodotti aggiunti al carrello: ${cartCount}\")"
   ]
  },
  {
   "cell_type": "code",
   "execution_count": 40,
   "id": "cfeff71d-9e8f-4ed4-8374-e1031c9e3091",
   "metadata": {
    "execution": {
     "iopub.execute_input": "2022-07-26T10:57:41.046050Z",
     "iopub.status.busy": "2022-07-26T10:57:41.045823Z",
     "iopub.status.idle": "2022-07-26T10:57:43.328163Z",
     "shell.execute_reply": "2022-07-26T10:57:43.327432Z",
     "shell.execute_reply.started": "2022-07-26T10:57:41.046025Z"
    },
    "tags": []
   },
   "outputs": [
    {
     "data": {
      "application/vnd.jupyter.widget-view+json": {
       "model_id": "3bd066f00c184fe1a1d33714299780b8",
       "version_major": 2,
       "version_minor": 0
      },
      "text/plain": [
       "VBox()"
      ]
     },
     "metadata": {},
     "output_type": "display_data"
    },
    {
     "data": {
      "application/vnd.jupyter.widget-view+json": {
       "model_id": "",
       "version_major": 2,
       "version_minor": 0
      },
      "text/plain": [
       "FloatProgress(value=0.0, bar_style='info', description='Progress:', layout=Layout(height='25px', width='50%'),…"
      ]
     },
     "metadata": {},
     "output_type": "display_data"
    },
    {
     "name": "stdout",
     "output_type": "stream",
     "text": [
      "purchaseCount: Long = 916939\n",
      "purchases: Long = 773214\n",
      "purchasingUsers: Long = 441638\n",
      "minPurchasedPrice: Double = 0.77\n",
      "maxPurchasedPrice: Double = 2574.07\n",
      "\n",
      "Numero di prodotti acquistati: 916939\n",
      "Numero totale di acquisti effettuati: 773214\n",
      "In media, articoli acquistati per ogni ordine: 1.1858799763066887 \n",
      "Numero di utenti che hanno acquistato un prodotto: 441638\n",
      "Rapporto tra clienti e utenti visualizzatori: 11%\n",
      "Range di acquisti da 0.77 a 2574.07\n"
     ]
    }
   ],
   "source": [
    "val rddPurchasesCached = rddEvents.filter(_.kind == \"purchase\").cache()\n",
    "\n",
    "/** Numero di prodotti acquistati */\n",
    "val purchaseCount = rddPurchasesCached.count()\n",
    "\n",
    "/** Numero di ordini effettuati */\n",
    "val purchases = rddPurchasesCached.map(_.userSession).distinct().count()\n",
    "\n",
    "/** Numero di utenti che hanno acquistato un prodotto */\n",
    "val purchasingUsers = rddPurchasesCached.map(_.userID).distinct().count()\n",
    "\n",
    "/** Minimo e massimo prezzo di un prodotto venduto */\n",
    "val minPurchasedPrice = rddPurchasesCached.map(_.price).min()\n",
    "val maxPurchasedPrice = rddPurchasesCached.map(_.price).max()\n",
    "\n",
    "println(s\"\\nNumero di prodotti acquistati: ${purchaseCount}\")\n",
    "println(s\"Numero totale di acquisti effettuati: ${purchases}\")\n",
    "println(s\"In media, articoli acquistati per ogni ordine: ${purchaseCount / purchases.toDouble} \")\n",
    "println(s\"Numero di utenti che hanno acquistato un prodotto: ${purchasingUsers}\")\n",
    "println(s\"Rapporto tra clienti e utenti visualizzatori: ${purchasingUsers * 100 / interactionUsers}%\")\n",
    "println(s\"Range di acquisti da ${minPurchasedPrice} a ${maxPurchasedPrice}\")"
   ]
  },
  {
   "cell_type": "markdown",
   "id": "b300b21f-98b5-4029-91e0-adf5484a916e",
   "metadata": {
    "execution": {
     "iopub.execute_input": "2022-07-23T15:26:15.419715Z",
     "iopub.status.busy": "2022-07-23T15:26:15.419495Z",
     "iopub.status.idle": "2022-07-23T15:26:15.711387Z",
     "shell.execute_reply": "2022-07-23T15:26:15.710704Z",
     "shell.execute_reply.started": "2022-07-23T15:26:15.419692Z"
    },
    "tags": []
   },
   "source": [
    "## Costo medio di un acquisto \n",
    "Un acquisto può comprendere più prodotti, se nella stessa sessione. \n",
    "<br> Prima di tutto si sono quindi aggregati i dati per sessione utente, al fine di accorpare i prodotti acquistati nella stessa sessione. Successivamente, è stata effettuata un'aggregazione per recuperare il totale monetario degli acquisti e il numero degli stessi. "
   ]
  },
  {
   "cell_type": "code",
   "execution_count": 41,
   "id": "316320bc-482b-4041-a805-dd6cbaf0e953",
   "metadata": {
    "execution": {
     "iopub.execute_input": "2022-07-26T10:57:52.424057Z",
     "iopub.status.busy": "2022-07-26T10:57:52.423830Z",
     "iopub.status.idle": "2022-07-26T10:57:53.700104Z",
     "shell.execute_reply": "2022-07-26T10:57:53.699563Z",
     "shell.execute_reply.started": "2022-07-26T10:57:52.424033Z"
    },
    "tags": []
   },
   "outputs": [
    {
     "data": {
      "application/vnd.jupyter.widget-view+json": {
       "model_id": "6c7100958dfe476e8058120ba4e91d68",
       "version_major": 2,
       "version_minor": 0
      },
      "text/plain": [
       "VBox()"
      ]
     },
     "metadata": {},
     "output_type": "display_data"
    },
    {
     "data": {
      "application/vnd.jupyter.widget-view+json": {
       "model_id": "",
       "version_major": 2,
       "version_minor": 0
      },
      "text/plain": [
       "FloatProgress(value=0.0, bar_style='info', description='Progress:', layout=Layout(height='25px', width='50%'),…"
      ]
     },
     "metadata": {},
     "output_type": "display_data"
    },
    {
     "name": "stdout",
     "output_type": "stream",
     "text": [
      "avgPurchaseWorth: (Double, Int) = (2.751948904999991E8,773214)\n",
      "\n",
      "Fatturato totale: 2.751948904999991E8\n",
      "Totale acquisti: 773214\n",
      "In media, costo degli acquisti: 355.9103825072995\n"
     ]
    }
   ],
   "source": [
    "val avgPurchaseWorth = rddPurchasesCached.\n",
    "        map(event => (event.userSession, event.price)).\n",
    "        reduceByKey(_ + _).\n",
    "        aggregate(0.0, 0)((agg, v) => (agg._1 + v._2, agg._2 + 1), (agg1, agg2) => (agg1._1 + agg2._1, agg1._2 + agg2._2))\n",
    "\n",
    "println(s\"\\nFatturato totale: ${avgPurchaseWorth._1}\")\n",
    "println(s\"Totale acquisti: ${avgPurchaseWorth._2}\")\n",
    "println(s\"In media, costo degli acquisti: ${avgPurchaseWorth._1 / avgPurchaseWorth._2}\")"
   ]
  },
  {
   "cell_type": "markdown",
   "id": "00512d34-a249-4f4d-9e1c-93624a343be2",
   "metadata": {},
   "source": [
    "## Brand più venduti in termini di fatturato e unità\n",
    "\n",
    "I record sono stati filtrati, mappati e aggregati sulla base del brand. Sono state raccolte, dall'aggregazione, le somme dei vari prezzi dei prodotti venduti e il numero degli stessi."
   ]
  },
  {
   "cell_type": "code",
   "execution_count": 42,
   "id": "a6773a06-b333-42be-b183-703faa111849",
   "metadata": {
    "execution": {
     "iopub.execute_input": "2022-07-26T10:58:04.689179Z",
     "iopub.status.busy": "2022-07-26T10:58:04.688924Z",
     "iopub.status.idle": "2022-07-26T10:58:05.458858Z",
     "shell.execute_reply": "2022-07-26T10:58:05.458163Z",
     "shell.execute_reply.started": "2022-07-26T10:58:04.689146Z"
    },
    "tags": []
   },
   "outputs": [
    {
     "data": {
      "application/vnd.jupyter.widget-view+json": {
       "model_id": "e8b72b19f6a340d1bf5c178340124d76",
       "version_major": 2,
       "version_minor": 0
      },
      "text/plain": [
       "VBox()"
      ]
     },
     "metadata": {},
     "output_type": "display_data"
    },
    {
     "data": {
      "application/vnd.jupyter.widget-view+json": {
       "model_id": "",
       "version_major": 2,
       "version_minor": 0
      },
      "text/plain": [
       "FloatProgress(value=0.0, bar_style='info', description='Progress:', layout=Layout(height='25px', width='50%'),…"
      ]
     },
     "metadata": {},
     "output_type": "display_data"
    },
    {
     "name": "stdout",
     "output_type": "stream",
     "text": [
      "Risultato cosi' composto: brand, fatturato, numero di vendite \n",
      "\n",
      "(apple,1.2751252488000034E8,166064)\n",
      "(samsung,5.486988086999983E7,200027)\n",
      "(xiaomi,1.1259865960000014E7,68292)\n",
      "(lg,5239018.76,12879)\n",
      "(huawei,4780682.349999999,23703)\n",
      "(sony,3862886.300000001,10309)\n",
      "(lucente,3527545.5700000008,14559)\n",
      "(oppo,3488540.759999996,15080)\n",
      "(acer,3347306.5300000003,6402)\n",
      "(lenovo,2698106.3,6547)\n"
     ]
    }
   ],
   "source": [
    "println(\"Risultato cosi' composto: brand, fatturato, numero di vendite \\n\")\n",
    "rddPurchasesCached.\n",
    "        filter(_.brand.nonEmpty).\n",
    "        map(e => (e.brand, (e.price, 1))).\n",
    "        reduceByKey((t1, t2) => (t1._1 + t2._1, t1._2 + t2._2)).\n",
    "        map(v => (v._1, v._2._1, v._2._2)).\n",
    "        sortBy(_._2, false).\n",
    "        collect().take(10).foreach(println(_))"
   ]
  },
  {
   "cell_type": "markdown",
   "id": "779507dc-0257-4d9a-9ec0-74377108bac8",
   "metadata": {},
   "source": [
    "## Categorie più vendute in termini di fatturato e unità\n",
    "Sono presenti categorie e sotto categorie, divise da un \".\", come ad esempio \"electronics.smartphone\". \n",
    "<br> Si è deciso di flattare le categorie, quindi sommando i risultati non si trovano il fatturato e le vendite reali perchè il fatturato relativo a un prodotto ricade nella sua categoria ma anche nelle altre categorie a cui appartiene.\n",
    "<br> Ad esempio, l'acquisto di uno smartphone è fatto ricadere nella categoria smartphone, ma anche nella categoria elettronica"
   ]
  },
  {
   "cell_type": "code",
   "execution_count": 55,
   "id": "e390ccb8-6e9c-4ae6-8957-2c4c741a5662",
   "metadata": {
    "execution": {
     "iopub.execute_input": "2022-07-26T11:12:18.124251Z",
     "iopub.status.busy": "2022-07-26T11:12:18.124031Z",
     "iopub.status.idle": "2022-07-26T11:12:18.889818Z",
     "shell.execute_reply": "2022-07-26T11:12:18.889203Z",
     "shell.execute_reply.started": "2022-07-26T11:12:18.124227Z"
    },
    "tags": []
   },
   "outputs": [
    {
     "data": {
      "application/vnd.jupyter.widget-view+json": {
       "model_id": "98973d7a5d8f42d788b9ce51c244df46",
       "version_major": 2,
       "version_minor": 0
      },
      "text/plain": [
       "VBox()"
      ]
     },
     "metadata": {},
     "output_type": "display_data"
    },
    {
     "data": {
      "application/vnd.jupyter.widget-view+json": {
       "model_id": "",
       "version_major": 2,
       "version_minor": 0
      },
      "text/plain": [
       "FloatProgress(value=0.0, bar_style='info', description='Progress:', layout=Layout(height='25px', width='50%'),…"
      ]
     },
     "metadata": {},
     "output_type": "display_data"
    },
    {
     "name": "stdout",
     "output_type": "stream",
     "text": [
      "(electronics,(2.0525011820999888E8,493639))\n",
      "(smartphone,(1.7782166160999888E8,382647))\n",
      "(appliances,(1.8640501669999972E7,99026))\n",
      "(kitchen,(1.4119915599999987E7,64365))\n",
      "(audio,(6396802.7900000075,46302))\n",
      "(headphone,(5669502.490000011,40834))\n",
      "(computers,(1.3994330690000009E7,34477))\n",
      "(video,(1.2670405990000006E7,30766))\n",
      "(tv,(1.2457151160000004E7,30274))\n",
      "(environment,(3678727.699999999,25975))\n"
     ]
    }
   ],
   "source": [
    "rddPurchasesCached.\n",
    "            filter(_.categoryID != 0).\n",
    "            flatMap(e => e.categoryCode.split('.').map((_, (e.price, 1)))).\n",
    "            reduceByKey((cat1, cat2) => (cat1._1 + cat2._1, cat1._2 + cat2._2)).\n",
    "            filter(_._1.nonEmpty).\n",
    "            sortBy(_._2._2, false).\n",
    "            collect().take(10).foreach(println(_))"
   ]
  },
  {
   "cell_type": "markdown",
   "id": "1ef0c679-a874-4126-8c71-10abccd8193b",
   "metadata": {},
   "source": [
    "## Query più complesse\n",
    "\n",
    "Vengono tolti dalla memoria tutti gli RDD di cui si era fatto cache() (per i problemi sopra citati) e si lascia spazio all'RDD utile in questa fase. \n",
    "Esso contiene tutti gli eventi, ma solamente per i campi utili. "
   ]
  },
  {
   "cell_type": "code",
   "execution_count": 56,
   "id": "f2f4f922-1591-40eb-b7e8-b90e7a9a2da8",
   "metadata": {
    "execution": {
     "iopub.execute_input": "2022-07-26T11:12:27.662650Z",
     "iopub.status.busy": "2022-07-26T11:12:27.662422Z",
     "iopub.status.idle": "2022-07-26T11:12:28.439854Z",
     "shell.execute_reply": "2022-07-26T11:12:28.439105Z",
     "shell.execute_reply.started": "2022-07-26T11:12:27.662625Z"
    },
    "tags": []
   },
   "outputs": [
    {
     "data": {
      "application/vnd.jupyter.widget-view+json": {
       "model_id": "795ffd17193a4615b6924d88be309502",
       "version_major": 2,
       "version_minor": 0
      },
      "text/plain": [
       "VBox()"
      ]
     },
     "metadata": {},
     "output_type": "display_data"
    },
    {
     "data": {
      "application/vnd.jupyter.widget-view+json": {
       "model_id": "",
       "version_major": 2,
       "version_minor": 0
      },
      "text/plain": [
       "FloatProgress(value=0.0, bar_style='info', description='Progress:', layout=Layout(height='25px', width='50%'),…"
      ]
     },
     "metadata": {},
     "output_type": "display_data"
    },
    {
     "name": "stdout",
     "output_type": "stream",
     "text": [
      "rddEventsCached: org.apache.spark.rdd.RDD[(Long, String, String, Double, String)] = MapPartitionsRDD[268] at map at <console>:28\n"
     ]
    }
   ],
   "source": [
    "sc.getPersistentRDDs.foreach{case (k,v) => v.unpersist()}\n",
    "\n",
    "val rddEventsCached = rddEvents.map(e => (e.productID, e.kind, e.brand, e.price, e.categoryCode)).cache()"
   ]
  },
  {
   "cell_type": "markdown",
   "id": "7edae320-c424-49a1-a785-28973f79e035",
   "metadata": {},
   "source": [
    "## Prodotti visti, aggiunti al carrello e acquistati\n",
    "Per ogni prodotto, si riporta il numero di visualizzazioni, di aggiunte al carrello e di acquisti.\n",
    "Purtroppo si riporta solamente il productID, essendo il nome del prodotto mancante all'interno del dataset."
   ]
  },
  {
   "cell_type": "code",
   "execution_count": 57,
   "id": "9cc3aab9-b4b7-49c0-95bc-a565bf1dfe4b",
   "metadata": {
    "execution": {
     "iopub.execute_input": "2022-07-26T11:12:47.572106Z",
     "iopub.status.busy": "2022-07-26T11:12:47.571868Z",
     "iopub.status.idle": "2022-07-26T11:14:03.108820Z",
     "shell.execute_reply": "2022-07-26T11:14:03.107983Z",
     "shell.execute_reply.started": "2022-07-26T11:12:47.572080Z"
    },
    "tags": []
   },
   "outputs": [
    {
     "data": {
      "application/vnd.jupyter.widget-view+json": {
       "model_id": "799b9e11e5514bbeaedd9eae87f60636",
       "version_major": 2,
       "version_minor": 0
      },
      "text/plain": [
       "VBox()"
      ]
     },
     "metadata": {},
     "output_type": "display_data"
    },
    {
     "data": {
      "application/vnd.jupyter.widget-view+json": {
       "model_id": "",
       "version_major": 2,
       "version_minor": 0
      },
      "text/plain": [
       "FloatProgress(value=0.0, bar_style='info', description='Progress:', layout=Layout(height='25px', width='50%'),…"
      ]
     },
     "metadata": {},
     "output_type": "display_data"
    },
    {
     "name": "stdout",
     "output_type": "stream",
     "text": [
      "path_output_items_metrics: String = s3a://unibo-bd2122-fmazzini/spark/ecommerce/itemsMetrics\n"
     ]
    }
   ],
   "source": [
    "val path_output_items_metrics = \"s3a://\"+bucketname+\"/spark/ecommerce/itemsMetrics\"\n",
    "\n",
    "rddEventsCached.\n",
    "            //per ogni record, inserisco un 1 nella giusta posizione in base alla tipologia di evento\n",
    "            map(e => (e._1, e._2 match {\n",
    "              case \"view\" => (1, 0, 0)\n",
    "              case \"cart\" => (0, 1, 0)\n",
    "              case \"purchase\" => (0, 0, 1)\n",
    "            })). //productId, (views, carts, purchases)\n",
    "            reduceByKey((x, y) => (x._1 + y._1, x._2 + y._2, x._3 + y._3)). //productId, (views, carts, purchases)\n",
    "            map(x => (x._1, x._2._1, x._2._2, x._2._3)).\n",
    "            coalesce(1).\n",
    "            toDF().write.format(\"csv\").mode(SaveMode.Overwrite).save(path_output_items_metrics)"
   ]
  },
  {
   "cell_type": "markdown",
   "id": "d7bf5d86-5ded-4121-83ce-ba6a98acd4dd",
   "metadata": {},
   "source": [
    "## Per ogni classe di brand, fatturati totali ripartiti sulle varie categorie\n",
    "\n",
    "Su consiglio del professore, il seguente job ha lo scopo di individuare una classificazione dei brand sulla base del fatturato e successivamente capire come il fatturato totale di ciascuna classe di brand è ripartito sulle varie categorie di prodotti venduti all'interno dell'ecommerce.  \n",
    "\n",
    "Per motivi di complessità, si è scelto di lavorare sull'intero dataset degli eventi e non solo sugli acquisti (per avere un numero dei dati maggiore e quindi un dataset di partenza più corposo). Questo è ovviamente semanticamente sbagliato, definire la somma di tutti i prezzi degli eventi \"fatturato\" non è corretto, ma in questo modo si hanno abbastanza dati per rendere il job corposo e valutare le performance. \n",
    "\n",
    "Si è quindi assunto, al fine di avere molti dati, che ogni record del dataset rappresentasse un acquisto (purchase)"
   ]
  },
  {
   "cell_type": "code",
   "execution_count": 58,
   "id": "2a20efc4-5160-41d0-8863-7cb11befdfd6",
   "metadata": {
    "execution": {
     "iopub.execute_input": "2022-07-26T11:15:09.555705Z",
     "iopub.status.busy": "2022-07-26T11:15:09.555468Z",
     "iopub.status.idle": "2022-07-26T11:15:09.818413Z",
     "shell.execute_reply": "2022-07-26T11:15:09.817809Z",
     "shell.execute_reply.started": "2022-07-26T11:15:09.555681Z"
    },
    "tags": []
   },
   "outputs": [
    {
     "data": {
      "application/vnd.jupyter.widget-view+json": {
       "model_id": "508d5a269e4b4ad9b0954ab270cf47f9",
       "version_major": 2,
       "version_minor": 0
      },
      "text/plain": [
       "VBox()"
      ]
     },
     "metadata": {},
     "output_type": "display_data"
    },
    {
     "data": {
      "application/vnd.jupyter.widget-view+json": {
       "model_id": "",
       "version_major": 2,
       "version_minor": 0
      },
      "text/plain": [
       "FloatProgress(value=0.0, bar_style='info', description='Progress:', layout=Layout(height='25px', width='50%'),…"
      ]
     },
     "metadata": {},
     "output_type": "display_data"
    },
    {
     "name": "stdout",
     "output_type": "stream",
     "text": [
      "path_category_classbrand: String = s3a://unibo-bd2122-fmazzini/spark/ecommerce/brandclass_category\n"
     ]
    }
   ],
   "source": [
    "val path_category_classbrand = \"s3a://\"+bucketname+\"/spark/ecommerce/brandclass_category\""
   ]
  },
  {
   "cell_type": "markdown",
   "id": "0488768c-4ffe-486b-928a-48236e3492c0",
   "metadata": {},
   "source": [
    "### Classificazione dei brand\n",
    "Inizialmente si è cercato di capire come classificare i brand sulla base del fatturato. Per farlo, si è esportato un dataset riguardante i brand e i relativi fatturati."
   ]
  },
  {
   "cell_type": "code",
   "execution_count": 59,
   "id": "4fcaf28b-464e-48c7-9cb2-a7cbb0fd4f6a",
   "metadata": {
    "execution": {
     "iopub.execute_input": "2022-07-26T11:15:13.346436Z",
     "iopub.status.busy": "2022-07-26T11:15:13.346104Z",
     "iopub.status.idle": "2022-07-26T11:15:26.758416Z",
     "shell.execute_reply": "2022-07-26T11:15:26.757782Z",
     "shell.execute_reply.started": "2022-07-26T11:15:13.346398Z"
    },
    "tags": []
   },
   "outputs": [
    {
     "data": {
      "application/vnd.jupyter.widget-view+json": {
       "model_id": "b938bca081d4401e94be201fb456f297",
       "version_major": 2,
       "version_minor": 0
      },
      "text/plain": [
       "VBox()"
      ]
     },
     "metadata": {},
     "output_type": "display_data"
    },
    {
     "data": {
      "application/vnd.jupyter.widget-view+json": {
       "model_id": "",
       "version_major": 2,
       "version_minor": 0
      },
      "text/plain": [
       "FloatProgress(value=0.0, bar_style='info', description='Progress:', layout=Layout(height='25px', width='50%'),…"
      ]
     },
     "metadata": {},
     "output_type": "display_data"
    },
    {
     "name": "stdout",
     "output_type": "stream",
     "text": [
      "path_brand_revenue: String = s3a://unibo-bd2122-fmazzini/spark/ecommerce/brand_revenue\n"
     ]
    }
   ],
   "source": [
    "val path_brand_revenue = \"s3a://\"+bucketname+\"/spark/ecommerce/brand_revenue\"\n",
    "\n",
    "rddEventsCached.\n",
    "    map(e => (e._3, e._4)). // brand, price\n",
    "    reduceByKey(_ + _). //brand, revenue\n",
    "    sortBy(_._2).\n",
    "    coalesce(1).\n",
    "    toDF().write.format(\"csv\").mode(SaveMode.Overwrite).save(path_brand_revenue)"
   ]
  },
  {
   "cell_type": "markdown",
   "id": "ec087f9f-c3eb-4c94-b66d-b2fd7fb25ea8",
   "metadata": {},
   "source": [
    "Successivamente sono stati osservati i fatturati e ripartiti su 4 categorie\n",
    "\n",
    "- **Top brand**: fatturato superiore a 10 M\n",
    "- **Popular brand**: fatturato superiore a 1 M e inferiore a 10M\n",
    "- **Normal brand**: fatturato superiore a 100k e inferiore a 1M\n",
    "- **Niche brand**: fatturato minore a 100k"
   ]
  },
  {
   "cell_type": "code",
   "execution_count": 60,
   "id": "e2a7f928-b8f5-4cd2-8307-0dc9ca30f624",
   "metadata": {
    "execution": {
     "iopub.execute_input": "2022-07-26T11:15:34.314002Z",
     "iopub.status.busy": "2022-07-26T11:15:34.313743Z",
     "iopub.status.idle": "2022-07-26T11:15:34.574173Z",
     "shell.execute_reply": "2022-07-26T11:15:34.573538Z",
     "shell.execute_reply.started": "2022-07-26T11:15:34.313976Z"
    },
    "tags": []
   },
   "outputs": [
    {
     "data": {
      "application/vnd.jupyter.widget-view+json": {
       "model_id": "3ef240ae0f1a495fab7df22044a4416b",
       "version_major": 2,
       "version_minor": 0
      },
      "text/plain": [
       "VBox()"
      ]
     },
     "metadata": {},
     "output_type": "display_data"
    },
    {
     "data": {
      "application/vnd.jupyter.widget-view+json": {
       "model_id": "",
       "version_major": 2,
       "version_minor": 0
      },
      "text/plain": [
       "FloatProgress(value=0.0, bar_style='info', description='Progress:', layout=Layout(height='25px', width='50%'),…"
      ]
     },
     "metadata": {},
     "output_type": "display_data"
    },
    {
     "name": "stdout",
     "output_type": "stream",
     "text": [
      "brandClassification: org.apache.spark.rdd.RDD[(String, String)] = MapPartitionsRDD[287] at map at <console>:30\n"
     ]
    }
   ],
   "source": [
    "val brandClassification = rddEventsCached.\n",
    "    map(e => (e._3, e._4)). // brand, price\n",
    "    reduceByKey(_ + _).\n",
    "    map(e => (e._1, e._2 match {\n",
    "      case f if f >= 10000000 => \"Top brand\" \n",
    "      case f if f < 10000000 && f >= 1000000 => \"Popular\"  \n",
    "      case f if f < 1000000 && f >= 100000 => \"Normal\" \n",
    "      case _ => \"Niche\"\n",
    "      }))"
   ]
  },
  {
   "cell_type": "markdown",
   "id": "956b287c-b182-471c-95d8-abd70e88c6d0",
   "metadata": {},
   "source": [
    "#### Primo workflow\n",
    "\n",
    "In questo primo tentativo si riporta quanto definito inizialmente, la bozza di job iniziale. \n",
    "\n",
    "Questo job presenta vari problemi, a cominciare dal fatto di eseguire la join tra due rdd molto corposi. Di seguito i passi eseguiti:\n",
    "\n",
    "- Map per brand\n",
    "- Join eventi con classi di brand\n",
    "- Flatmap su categorie (con relativa esplosione delle categorie) e mapping su <categoria, classeBrand>\n",
    "- Aggregazione per <categoria, classeBrand>"
   ]
  },
  {
   "cell_type": "code",
   "execution_count": 68,
   "id": "f7a41187-9ed9-42bd-9b59-941ee5ea21d2",
   "metadata": {
    "execution": {
     "iopub.execute_input": "2022-07-26T11:20:32.682358Z",
     "iopub.status.busy": "2022-07-26T11:20:32.682103Z",
     "iopub.status.idle": "2022-07-26T11:21:42.234803Z",
     "shell.execute_reply": "2022-07-26T11:21:42.234020Z",
     "shell.execute_reply.started": "2022-07-26T11:20:32.682324Z"
    },
    "tags": []
   },
   "outputs": [
    {
     "data": {
      "application/vnd.jupyter.widget-view+json": {
       "model_id": "3de7eb310a89403b963df03560cd6903",
       "version_major": 2,
       "version_minor": 0
      },
      "text/plain": [
       "VBox()"
      ]
     },
     "metadata": {},
     "output_type": "display_data"
    },
    {
     "data": {
      "application/vnd.jupyter.widget-view+json": {
       "model_id": "",
       "version_major": 2,
       "version_minor": 0
      },
      "text/plain": [
       "FloatProgress(value=0.0, bar_style='info', description='Progress:', layout=Layout(height='25px', width='50%'),…"
      ]
     },
     "metadata": {},
     "output_type": "display_data"
    },
    {
     "name": "stdout",
     "output_type": "stream",
     "text": [
      "res272: Array[(String, String, Double, Int)] = Array((belt,Top brand,177111.019999999,2743), (swing,Popular,3122453.580000076,25448), (refrigerators,Normal,4192127.0899999794,14195), (medicine,Top brand,25597.25000000016,621), (drill,Niche,166645.96000000022,1751), (swing,Top brand,2010676.6500000937,11119), (keds,Niche,212003.22000000055,3530), (kids,Popular,5.690961849999933E7,312629), (moccasins,Popular,625346.1100000128,7833), (tablet,Popular,1.0967699889999174E7,82325), (soldering,Popular,26607.570000000287,1350), (kettle,Normal,833903.9700000818,35427), (jumper,Popular,653905.8299999529,23424), (subwoofer,Top brand,1.2747114819999374E7,152745), (saw,Normal,634464.480000004,8281), (camera,Normal,1040772.9400000204,9839), (parktronic,Top brand,47699.39000000052,1096), (skates,Normal...\n"
     ]
    }
   ],
   "source": [
    "rddEventsCached.\n",
    "    map(p => (p._3, (p._4, p._5))). // brand, (price, categorycode)\n",
    "    join(brandClassification). // brand, ((price, categoryCode), brandClass)\n",
    "    flatMap(p => p._2._1._2.split('.').map(x => ((x, p._2._2), p._2._1._1))). // (categoryCode, brandClass), price\n",
    "    aggregateByKey((0.0,0))((agg, v) => (agg._1 + v, agg._2 + 1),((agg1,agg2) => (agg1._1 + agg2._1, agg1._2 + agg2._2))). // (categoryCode, brandClass), price, count\n",
    "    map(x => (x._1._1, x._1._2, x._2._1, x._2._2)). // categoryCode, brandClass, price, count\n",
    "    collect()\n",
    "    //coalesce(1).\n",
    "    //toDF().write.format(\"csv\").mode(SaveMode.Overwrite).save(path_category_classbrand)"
   ]
  },
  {
   "cell_type": "markdown",
   "id": "2781012e-afeb-447c-88df-83f4067d19fe",
   "metadata": {},
   "source": [
    "**Tempo di esecuzione medio:** 1.5 min \n",
    "    \n",
    "In generale non si è fatto particolare attenzione all'aggregare prima della join e della flatmap sulle categorie, questo ha causato un generale aumento del volume dei dati, il quale si è tradotto in maggior tempo per eseguire il job. Un'altro aspetto da considerare è l'elevato numero di stage, il chè è dovuto all'elevato numero di shuffle. \n",
    "    \n",
    "Mediante lo shuffling i dati sono ridistribuiti tra le varie partizioni, questa è una tra le operazioni più costose perchè prevede il passaggio dei dati in rete, I/O su disco e (de)/serializzazione dei dati. \n",
    "\n",
    "Lo stage in cui si perde più tempo è il 123, dove avviene la join, non avendo aggregato in precedenza è computazionalmente dispendioso. \n",
    "![job con join.png](images/job_join.png)"
   ]
  },
  {
   "cell_type": "markdown",
   "id": "53c2dd03-295e-4781-a902-1c0818d2aa9d",
   "metadata": {},
   "source": [
    "#### Utilizzo del broadcast\n",
    "Anzichè utilizzare join, è stata usata una variabile broadcast mantenuta in sola lettura da tutti gli executor. Attraverso questa variabile condivisa in sola lettura, non sarà necessario eseguire task di join. "
   ]
  },
  {
   "cell_type": "code",
   "execution_count": 62,
   "id": "63049ee1-f9df-4af2-9a08-2abb6ebc8dd6",
   "metadata": {
    "execution": {
     "iopub.execute_input": "2022-07-26T11:18:22.694857Z",
     "iopub.status.busy": "2022-07-26T11:18:22.694632Z",
     "iopub.status.idle": "2022-07-26T11:18:23.460068Z",
     "shell.execute_reply": "2022-07-26T11:18:23.459332Z",
     "shell.execute_reply.started": "2022-07-26T11:18:22.694832Z"
    },
    "tags": []
   },
   "outputs": [
    {
     "data": {
      "application/vnd.jupyter.widget-view+json": {
       "model_id": "12b71b9287dc4e2bafafaf68039a6626",
       "version_major": 2,
       "version_minor": 0
      },
      "text/plain": [
       "VBox()"
      ]
     },
     "metadata": {},
     "output_type": "display_data"
    },
    {
     "data": {
      "application/vnd.jupyter.widget-view+json": {
       "model_id": "",
       "version_major": 2,
       "version_minor": 0
      },
      "text/plain": [
       "FloatProgress(value=0.0, bar_style='info', description='Progress:', layout=Layout(height='25px', width='50%'),…"
      ]
     },
     "metadata": {},
     "output_type": "display_data"
    },
    {
     "name": "stdout",
     "output_type": "stream",
     "text": [
      "brandClass: org.apache.spark.broadcast.Broadcast[scala.collection.Map[String,String]] = Broadcast(164)\n"
     ]
    }
   ],
   "source": [
    "val brandClass = sc.broadcast(brandClassification.collectAsMap())"
   ]
  },
  {
   "cell_type": "markdown",
   "id": "119cf53e-0b6f-4d61-8d44-2930806ef6c0",
   "metadata": {},
   "source": [
    "#### Secondo workflow\n",
    "\n",
    "**Tempo di esecuzione medio:** 17 secondi\n",
    "\n",
    "Versione ottimizzata con variabili broadcast, mediante le quali non vengono fatte join. Di seguito i passi eseguiti:\n",
    "\n",
    "- FlatMap per <categoria, classeBrand> utilizzando broadcast\n",
    "- Flatmap su categorie (con relativa esplosione delle categorie) e mapping su <categoria, classeBrand>\n",
    "- Aggregazione per <categoria, classeBrand>"
   ]
  },
  {
   "cell_type": "code",
   "execution_count": 69,
   "id": "4edadd52-3c61-4009-b05d-41beb3c5d7bd",
   "metadata": {
    "execution": {
     "iopub.execute_input": "2022-07-26T11:21:42.236049Z",
     "iopub.status.busy": "2022-07-26T11:21:42.235854Z",
     "iopub.status.idle": "2022-07-26T11:22:15.624195Z",
     "shell.execute_reply": "2022-07-26T11:22:15.623586Z",
     "shell.execute_reply.started": "2022-07-26T11:21:42.236019Z"
    },
    "tags": []
   },
   "outputs": [
    {
     "data": {
      "application/vnd.jupyter.widget-view+json": {
       "model_id": "2d54d53312034c8083ab0fcfd4db4548",
       "version_major": 2,
       "version_minor": 0
      },
      "text/plain": [
       "VBox()"
      ]
     },
     "metadata": {},
     "output_type": "display_data"
    },
    {
     "data": {
      "application/vnd.jupyter.widget-view+json": {
       "model_id": "",
       "version_major": 2,
       "version_minor": 0
      },
      "text/plain": [
       "FloatProgress(value=0.0, bar_style='info', description='Progress:', layout=Layout(height='25px', width='50%'),…"
      ]
     },
     "metadata": {},
     "output_type": "display_data"
    },
    {
     "name": "stdout",
     "output_type": "stream",
     "text": [
      "res276: Array[(String, String, Double, Int)] = Array((belt,Top brand,177111.01999999984,2743), (swing,Popular,3122453.579999993,25448), (refrigerators,Normal,4192127.09,14195), (medicine,Top brand,25597.25,621), (drill,Niche,166645.96000000005,1751), (swing,Top brand,2010676.6500000015,11119), (keds,Niche,212003.21999999997,3530), (kids,Popular,5.6909618500000246E7,312629), (moccasins,Popular,625346.1100000001,7833), (tablet,Popular,1.0967699890000049E7,82325), (soldering,Popular,26607.57000000001,1350), (kettle,Normal,833903.9700000021,35427), (jumper,Popular,653905.8300000007,23424), (subwoofer,Top brand,1.2747114820000028E7,152745), (saw,Normal,634464.4800000003,8281), (camera,Normal,1040772.9400000001,9839), (parktronic,Top brand,47699.39,1096), (skates,Normal,3571789.9500000007,142...\n"
     ]
    }
   ],
   "source": [
    "rddEventsCached.\n",
    "    flatMap(p => brandClass.value.get(p._3).map(bc => (p._5, bc, p._4))). // ((categoryCode, brandClass), price)\n",
    "    flatMap(x => x._1.split('.').map(y => ((y, x._2), x._3))). // ((categoryCode, brandClass), price)\n",
    "    aggregateByKey((0.0, 0))((agg, v) => (agg._1 + v, agg._2 + 1), ((agg1, agg2) => (agg1._1 + agg2._1, agg1._2 + agg2._2))). // ((categoryCode, brandClass), price, count)\n",
    "    map(x => (x._1._1, x._1._2, x._2._1, x._2._2)). //categoryCode, brandClass, price, count\n",
    "    collect()\n",
    "    //coalesce(1).\n",
    "    //toDF().write.format(\"csv\").mode(SaveMode.Overwrite).save(path_category_classbrand)"
   ]
  },
  {
   "cell_type": "markdown",
   "id": "ccfb2693-120b-42ca-9059-a0546d476a62",
   "metadata": {},
   "source": [
    "In questo workflow, facendo uso di variabili broadcast ho meno stage. Un'unico per l'analisi e uno, dopo la coalesce, per scrivere il risultato ottenuto su S3.\n",
    "In input ho la stessa quantità di dati, ma mediante la aggregate questi si riducono notevolmente. Inoltre, non si hanno stage per il join, facendo uso di variabili broadcast. "
   ]
  },
  {
   "cell_type": "markdown",
   "id": "c0a39919-0839-486f-a5bb-de95a0849ddc",
   "metadata": {},
   "source": [
    "![job con broadcast.png](images/job_broadcast.png)"
   ]
  },
  {
   "cell_type": "markdown",
   "id": "05b6b12a-61bd-4ee4-a316-df27856ae86e",
   "metadata": {
    "execution": {
     "iopub.execute_input": "2022-07-24T18:27:04.632834Z",
     "iopub.status.busy": "2022-07-24T18:27:04.632606Z",
     "iopub.status.idle": "2022-07-24T18:27:04.889620Z",
     "shell.execute_reply": "2022-07-24T18:27:04.889012Z",
     "shell.execute_reply.started": "2022-07-24T18:27:04.632808Z"
    },
    "tags": []
   },
   "source": [
    "#### Terzo workflow\n",
    "\n",
    "**Tempo di esecuzione medio:** 11 secondi \n",
    "\n",
    "Versione ottimizzata con variabili broadcast e aggregazioni prima di utilizzarle. Di seguito i passi eseguiti:\n",
    "\n",
    "- Map per <categoria, brand>\n",
    "- Aggregazione per <categoria, brand>\n",
    "- Flatmap su categorie, utilizzo variabili broadcast e mapping su <categoria, classeBrand>\n",
    "- Aggregazione per <categoria, classeBrand>"
   ]
  },
  {
   "cell_type": "code",
   "execution_count": 66,
   "id": "c2ad00ea-02b5-4645-8644-38a4bde18924",
   "metadata": {
    "execution": {
     "iopub.execute_input": "2022-07-26T11:20:08.047750Z",
     "iopub.status.busy": "2022-07-26T11:20:08.047518Z",
     "iopub.status.idle": "2022-07-26T11:20:17.350457Z",
     "shell.execute_reply": "2022-07-26T11:20:17.349704Z",
     "shell.execute_reply.started": "2022-07-26T11:20:08.047725Z"
    },
    "tags": []
   },
   "outputs": [
    {
     "data": {
      "application/vnd.jupyter.widget-view+json": {
       "model_id": "a90c69be2ddf493d92d431ab0f9e0539",
       "version_major": 2,
       "version_minor": 0
      },
      "text/plain": [
       "VBox()"
      ]
     },
     "metadata": {},
     "output_type": "display_data"
    },
    {
     "data": {
      "application/vnd.jupyter.widget-view+json": {
       "model_id": "",
       "version_major": 2,
       "version_minor": 0
      },
      "text/plain": [
       "FloatProgress(value=0.0, bar_style='info', description='Progress:', layout=Layout(height='25px', width='50%'),…"
      ]
     },
     "metadata": {},
     "output_type": "display_data"
    },
    {
     "name": "stdout",
     "output_type": "stream",
     "text": [
      "res265: Array[(String, Option[String], Double, Int)] = Array((sock,Some(Normal),83978.41999999998,578), (toster,Some(Popular),132284.20999999993,6532), (moccasins,Some(Popular),625346.1100000005,7833), (cpu,Some(Top brand),1.7032447780000016E7,52645), (air_conditioner,Some(Top brand),2.433781736E7,61395), (blender,Some(Popular),1531450.7000000002,36501), (shoes,Some(Niche),1144176.29,17697), (smartphone,Some(Popular),2.1262149710000042E7,148299), (wallet,Some(Normal),147829.38000000006,6159), (skates,Some(Popular),1.1788501769999996E7,19716), (tonometer,Some(Top brand),25597.25,621), (oven,Some(Popular),8170364.010000005,90504), (radar,Some(Normal),122383.70999999999,1895), (subwoofer,Some(Niche),312307.22000000015,8050), (swing,Some(Popular),3122453.5799999987,25448), (radar,Some(Niche...\n"
     ]
    }
   ],
   "source": [
    "rddEventsCached.\n",
    "    map(e => ((e._5, e._3), (e._4, 1))). // ((categoryCode, brand), (price, count))\n",
    "    reduceByKey((x,y) => (x._1 + y._1, x._2 + y._2)). // ((categoryCode, brand), (price, count))\n",
    "    flatMap(e => e._1._1.split('.').map(cat => ((cat, brandClass.value.get(e._1._2)), e._2))). // ((categoryCode, brandClass), (price, count))\n",
    "    reduceByKey((x,y) => (x._1 + y._1, x._2 + y._2)). // ((categorycode, brandClass), (price, count))\n",
    "    map(x => (x._1._1, x._1._2, x._2._1, x._2._2)). // categoryCode, brandClass, price, count\n",
    "    collect()\n",
    "    //coalesce(1).\n",
    "    //toDF().write.format(\"csv\").mode(SaveMode.Overwrite).save(path_category_classbrand)"
   ]
  },
  {
   "cell_type": "markdown",
   "id": "944fd59d-5087-43cb-9dc1-b2c2f3c85cd6",
   "metadata": {},
   "source": [
    "In questa ultima e migliore versione del job, viene eseguita un'aggregazione sui dati prima di utilizzare il broadcast per recuperare la classe di ogni brand. \n",
    "E' possibile vedere come, mentre prima la variabile broadcast era acceduta per 15Gb (circa 67milioni di record) , ora lo è per soli 9.4Mb (circa 300k record). \n",
    "\n",
    "Questo perchè nel secondo workflow, si accedeva alla variabile broadcast per ogni record, dove un record era un evento. In questo caso invece (terzo workflow), aggrego prima i dati sulla base del brand e della categoria, dal momento che tra brand e classeBrand vi è una relazione 1 a 1.\n",
    "![dag job con aggregazione e broadcast.png](images/dag_job_aggregazione_broadcast.png) \n",
    "![job con aggregazione e broadcast.png](images/job_aggregazione_broadcast_2.png)"
   ]
  },
  {
   "cell_type": "code",
   "execution_count": null,
   "id": "5707e9e0-001e-4364-920f-aa5c23119dc3",
   "metadata": {},
   "outputs": [],
   "source": [
    "sc.getPersistentRDDs.foreach{case (k,v) => v.unpersist()}"
   ]
  },
  {
   "cell_type": "markdown",
   "id": "1e6054c8-51ba-48f3-bd96-80bc039df2b3",
   "metadata": {},
   "source": [
    "## Risultati ottenuti e tableau\n",
    "\n",
    "Di seguito si riporta quanto ottenuto con Tableau, una heatmap dove, per ogni categoria il fatturato è suddiviso sulle diverse classi di brand. \n",
    "\n",
    "Il risultato è stato ricalcolato sulla base delle vendite reali e non su tutti gli eventi, in modo tale da avere un'analisi veritiera su categorie, classi di brand e vendite effettive. Le analisi rimangono invariate, sono solamente i dati di partenza ad essere cambiati."
   ]
  },
  {
   "cell_type": "code",
   "execution_count": 80,
   "id": "c2c7f4f7-e93b-48d9-bbf9-baaaf9ab307e",
   "metadata": {
    "execution": {
     "iopub.execute_input": "2022-07-26T11:34:17.439848Z",
     "iopub.status.busy": "2022-07-26T11:34:17.439616Z",
     "iopub.status.idle": "2022-07-26T11:34:18.209724Z",
     "shell.execute_reply": "2022-07-26T11:34:18.208956Z",
     "shell.execute_reply.started": "2022-07-26T11:34:17.439824Z"
    },
    "tags": []
   },
   "outputs": [
    {
     "data": {
      "application/vnd.jupyter.widget-view+json": {
       "model_id": "bbabffdf61b34f399adf67c7127b509a",
       "version_major": 2,
       "version_minor": 0
      },
      "text/plain": [
       "VBox()"
      ]
     },
     "metadata": {},
     "output_type": "display_data"
    },
    {
     "data": {
      "application/vnd.jupyter.widget-view+json": {
       "model_id": "",
       "version_major": 2,
       "version_minor": 0
      },
      "text/plain": [
       "FloatProgress(value=0.0, bar_style='info', description='Progress:', layout=Layout(height='25px', width='50%'),…"
      ]
     },
     "metadata": {},
     "output_type": "display_data"
    },
    {
     "name": "stdout",
     "output_type": "stream",
     "text": [
      "rddPurchasesCached: org.apache.spark.rdd.RDD[EcommerceEventParser.Event] = MapPartitionsRDD[400] at filter at <console>:28\n"
     ]
    }
   ],
   "source": [
    "sc.getPersistentRDDs.foreach{case (k,v) => v.unpersist()}\n",
    "\n",
    "val rddPurchasesCached = rddEvents.filter(_.kind == \"purchase\").cache()"
   ]
  },
  {
   "cell_type": "markdown",
   "id": "6cac498e-4b4f-485d-b46b-19d8c43d7fff",
   "metadata": {
    "execution": {
     "iopub.execute_input": "2022-07-25T15:04:55.687580Z",
     "iopub.status.busy": "2022-07-25T15:04:55.687351Z",
     "iopub.status.idle": "2022-07-25T15:04:55.948574Z",
     "shell.execute_reply": "2022-07-25T15:04:55.948007Z",
     "shell.execute_reply.started": "2022-07-25T15:04:55.687556Z"
    },
    "tags": []
   },
   "source": [
    "#### Analisi classi brand"
   ]
  },
  {
   "cell_type": "code",
   "execution_count": 82,
   "id": "9230d5c4-0b93-49c5-a9aa-f7480e4471da",
   "metadata": {
    "execution": {
     "iopub.execute_input": "2022-07-26T11:34:53.062242Z",
     "iopub.status.busy": "2022-07-26T11:34:53.061994Z",
     "iopub.status.idle": "2022-07-26T11:34:54.346550Z",
     "shell.execute_reply": "2022-07-26T11:34:54.345835Z",
     "shell.execute_reply.started": "2022-07-26T11:34:53.062216Z"
    },
    "tags": []
   },
   "outputs": [
    {
     "data": {
      "application/vnd.jupyter.widget-view+json": {
       "model_id": "f9c05d83d00f4cad8f2569e3a071c5c9",
       "version_major": 2,
       "version_minor": 0
      },
      "text/plain": [
       "VBox()"
      ]
     },
     "metadata": {},
     "output_type": "display_data"
    },
    {
     "data": {
      "application/vnd.jupyter.widget-view+json": {
       "model_id": "",
       "version_major": 2,
       "version_minor": 0
      },
      "text/plain": [
       "FloatProgress(value=0.0, bar_style='info', description='Progress:', layout=Layout(height='25px', width='50%'),…"
      ]
     },
     "metadata": {},
     "output_type": "display_data"
    },
    {
     "name": "stdout",
     "output_type": "stream",
     "text": [
      "path_real_brand_revenue: String = s3a://unibo-bd2122-fmazzini/spark/ecommerce/real_brand_revenue\n",
      "res357: Array[(String, Double)] = Array((dfz,0.9), (banbao,1.18), (heinz,1.18), (kisswill,2.46), (soyntec,2.55), (enlightenbrick,2.91), (naturalist,3.6), (compliment,3.6), (glanzen,4.09), (revuele,4.12), (elbasco,4.14), (triumph,4.37), (dodo,4.38), (plamers,4.73), (leicos,4.76), (provence,4.86), (instyle,4.89), (eveline,4.89), (tutu,5.02), (vdovichev,5.2), (crome,5.47), (lamel,5.68), (derevaski,5.78), (optiplus,5.79), (likebook,6.02), (cafemimi,6.18), (meizer,6.57), (nirmal,6.7), (naturasiberica,7.029999999999999), (comfortzone,7.08), (maxfactor,7.18), (cayee,7.19), (evelinecosmetics,7.21), (zaharov,7.23), (yegam,7.359999999999999), (zanry,7.36), (pqi,7.46), (rimmellondon,7.52), (piter-trejd,7.61), (ogiz,7.83), (xlmedia,8.28), (larocheposay,8.31), (a-elita,8.49), (buttonblue,8.719999999...\n"
     ]
    }
   ],
   "source": [
    "val path_real_brand_revenue = \"s3a://\"+bucketname+\"/spark/ecommerce/real_brand_revenue\"\n",
    "\n",
    "rddPurchasesCached.\n",
    "    map(e => (e.brand, e.price)). // brand, price\n",
    "    reduceByKey(_ + _). //brand, revenue\n",
    "    sortBy(_._2).\n",
    "    collect()\n",
    "    //coalesce(1).\n",
    "    //toDF().write.format(\"csv\").mode(SaveMode.Overwrite).save(path_real_brand_revenue)"
   ]
  },
  {
   "cell_type": "markdown",
   "id": "3d56f624-00f9-485f-8d96-052ced585931",
   "metadata": {
    "execution": {
     "iopub.execute_input": "2022-07-25T15:06:37.390044Z",
     "iopub.status.busy": "2022-07-25T15:06:37.389819Z",
     "iopub.status.idle": "2022-07-25T15:06:37.655064Z",
     "shell.execute_reply": "2022-07-25T15:06:37.654125Z",
     "shell.execute_reply.started": "2022-07-25T15:06:37.390021Z"
    },
    "tags": []
   },
   "source": [
    "#### Classificazione dei brand, ripartizione dei fatturati sulle categorie, salvataggio su S3"
   ]
  },
  {
   "cell_type": "code",
   "execution_count": 86,
   "id": "3ddd076c-85f3-454a-a2a4-34e5fa8d083d",
   "metadata": {
    "execution": {
     "iopub.execute_input": "2022-07-26T11:35:28.573648Z",
     "iopub.status.busy": "2022-07-26T11:35:28.573411Z",
     "iopub.status.idle": "2022-07-26T11:35:29.845747Z",
     "shell.execute_reply": "2022-07-26T11:35:29.845021Z",
     "shell.execute_reply.started": "2022-07-26T11:35:28.573624Z"
    },
    "tags": []
   },
   "outputs": [
    {
     "data": {
      "application/vnd.jupyter.widget-view+json": {
       "model_id": "d01878f7ba724d84a2110ccfe3ce2b2e",
       "version_major": 2,
       "version_minor": 0
      },
      "text/plain": [
       "VBox()"
      ]
     },
     "metadata": {},
     "output_type": "display_data"
    },
    {
     "data": {
      "application/vnd.jupyter.widget-view+json": {
       "model_id": "",
       "version_major": 2,
       "version_minor": 0
      },
      "text/plain": [
       "FloatProgress(value=0.0, bar_style='info', description='Progress:', layout=Layout(height='25px', width='50%'),…"
      ]
     },
     "metadata": {},
     "output_type": "display_data"
    },
    {
     "name": "stdout",
     "output_type": "stream",
     "text": [
      "path_real_category_classbrand: String = s3a://unibo-bd2122-fmazzini/spark/ecommerce/real_brandclass_category\n",
      "real_brandClassification: org.apache.spark.rdd.RDD[(String, String)] = MapPartitionsRDD[444] at map at <console>:31\n",
      "real_brandClass: org.apache.spark.broadcast.Broadcast[scala.collection.Map[String,String]] = Broadcast(247)\n",
      "res384: Array[(String, Option[String], Double, Int)] = Array((sock,Some(Normal),479.53000000000003,10), (toster,Some(Popular),9983.220000000003,252), (moccasins,Some(Popular),64.61,1), (air_conditioner,Some(Top brand),225232.11000000002,295), (blender,Some(Popular),199695.99999999997,3302), (shoes,Some(Niche),116833.17000000001,1253), (smartphone,Some(Popular),1437882.17,5898), (wallet,Some(Normal),7278.059999999999,188), (oven,Some(Popular),252107.5,1338), (radar,Some(Normal),27674.159999999996,348), (subwoofer,Some(Niche),20576.42,244), (radar,Some(Niche),4982.540000000001,67), (mixer,Some(Normal),66719.87,466), (anti_freeze,Some(Niche),446.4700000000001,18), (coffee_machine,Some(Top brand),10798.340000000002,22), (light,Some(Top brand),2905.2299999999996,69), (generator,Some(Normal),...\n"
     ]
    }
   ],
   "source": [
    "val path_real_category_classbrand = \"s3a://\"+bucketname+\"/spark/ecommerce/real_brandclass_category\"\n",
    "\n",
    "val real_brandClassification = rddPurchasesCached.\n",
    "    map(e => (e.brand, e.price)). // brand, price\n",
    "    reduceByKey(_ + _).\n",
    "    map(e => (e._1, e._2 match {\n",
    "      case f if f >= 1000000 => \"Top brand\" \n",
    "      case f if f < 1000000 && f >= 100000 => \"Popular\"  \n",
    "      case f if f < 100000 && f >= 10000 => \"Normal\" \n",
    "      case _ => \"Niche\"\n",
    "      })) //.cache()\n",
    "\n",
    "\n",
    "val real_brandClass = sc.broadcast(real_brandClassification.collectAsMap())\n",
    "\n",
    "rddPurchasesCached.\n",
    "    map(e => ((e.categoryCode, e.brand), (e.price, 1))). // ((categoryCode, brand), (price, count))\n",
    "    reduceByKey((x,y) => (x._1 + y._1, x._2 + y._2)). // ((categoryCode, brand), (price, count))\n",
    "    flatMap(e => e._1._1.split('.').map(cat => ((cat, real_brandClass.value.get(e._1._2)), e._2))). // ((categoryCode, brandClass), (price, count))\n",
    "    reduceByKey((x,y) => (x._1 + y._1, x._2 + y._2)). // ((categorycode, brandClass), (price, count))\n",
    "    map(x => (x._1._1, x._1._2, x._2._1, x._2._2)). // categoryCode, brandClass, price, count\n",
    "    collect()\n",
    "    //coalesce(1).\n",
    "    //toDF().write.format(\"csv\").mode(SaveMode.Overwrite).save(path_real_category_classbrand)"
   ]
  },
  {
   "cell_type": "markdown",
   "id": "614da8de-9824-448a-ac39-db5ed71ba8e0",
   "metadata": {},
   "source": [
    "Questa immagine è un frammento della heatmap ottenuta, la quale è stata allegata con il resto del materiale. Si nota come, per alcune categorie, la maggior parte del fatturato non arrivi dai top brand, bensì da brand più piccoli. Questo è vero soprattutto per categorie meno \"commerciali\" rispetto ad altre. Nelle categorie tecnologiche invece, i top brand dominano le vendite.\n",
    "\n",
    "![tableau_results.png](images/tableau_results.png)"
   ]
  }
 ],
 "metadata": {
  "kernelspec": {
   "display_name": "Spark",
   "language": "scala",
   "name": "sparkkernel"
  },
  "language_info": {
   "codemirror_mode": "text/x-scala",
   "file_extension": ".sc",
   "mimetype": "text/x-scala",
   "name": "scala",
   "pygments_lexer": "scala"
  }
 },
 "nbformat": 4,
 "nbformat_minor": 5
}
